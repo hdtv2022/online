{
  "nbformat": 4,
  "nbformat_minor": 0,
  "metadata": {
    "colab": {
      "name": "Сводка ДТП в Казани за прошедшие сутки 19.07.2022 видео (BHeE723jW)",
      "provenance": [],
      "collapsed_sections": []
    },
    "kernelspec": {
      "name": "python3",
      "display_name": "Python 3"
    },
    "language_info": {
      "name": "python"
    }
  },
  "cells": [
    {
      "cell_type": "code",
      "execution_count": null,
      "metadata": {
        "id": "VWXkaOPvIMiW"
      },
      "outputs": [],
      "source": [
        ""
      ]
    },
    {
      "cell_type": "markdown",
      "source": [
        "Сводка ДТП в Казани за прошедшие сутки 19.07.2022 видео (BHeE723jW)"
      ],
      "metadata": {
        "id": "0SxBFU9yIl4P"
      }
    }
  ]
}